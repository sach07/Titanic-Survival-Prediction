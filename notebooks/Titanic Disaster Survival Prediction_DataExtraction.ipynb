{
 "cells": [
  {
   "cell_type": "markdown",
   "metadata": {},
   "source": [
    "## Extracting Titanic Dataset from Kaggle"
   ]
  },
  {
   "cell_type": "code",
   "execution_count": 1,
   "metadata": {},
   "outputs": [
    {
     "name": "stdout",
     "output_type": "stream",
     "text": [
      "Collecting python-dotenv\n",
      "  Downloading https://files.pythonhosted.org/packages/24/3d/977140bd94bfb160f98a5c02fdfbb72325130f12a325cf993182956e9d0e/python_dotenv-0.9.1-py2.py3-none-any.whl\n",
      "Installing collected packages: python-dotenv\n",
      "Successfully installed python-dotenv-0.9.1\n"
     ]
    },
    {
     "name": "stderr",
     "output_type": "stream",
     "text": [
      "You are using pip version 9.0.1, however version 18.0 is available.\n",
      "You should consider upgrading via the 'python -m pip install --upgrade pip' command.\n"
     ]
    }
   ],
   "source": [
    "!pip install python-dotenv  "
   ]
  },
  {
   "cell_type": "code",
   "execution_count": 79,
   "metadata": {},
   "outputs": [],
   "source": [
    "from dotenv import load_dotenv,find_dotenv"
   ]
  },
  {
   "cell_type": "code",
   "execution_count": 80,
   "metadata": {},
   "outputs": [
    {
     "data": {
      "text/plain": [
       "True"
      ]
     },
     "execution_count": 80,
     "metadata": {},
     "output_type": "execute_result"
    }
   ],
   "source": [
    "dotenv_path=find_dotenv()\n",
    "load_dotenv(dotenv_path)"
   ]
  },
  {
   "cell_type": "code",
   "execution_count": 81,
   "metadata": {},
   "outputs": [
    {
     "name": "stdout",
     "output_type": "stream",
     "text": [
      "786S@chin786\n",
      "sachinsg873@gmail.com\n"
     ]
    }
   ],
   "source": [
    "import os\n",
    "Kaggle_Username=os.environ.get(\"Kaggle_Username\")\n",
    "Kaggle_Password=os.environ.get(\"Kaggle_Password\")\n",
    "print(Kaggle_Password)\n",
    "print(Kaggle_Username)"
   ]
  },
  {
   "cell_type": "code",
   "execution_count": 82,
   "metadata": {},
   "outputs": [],
   "source": [
    "from requests import session\n",
    "from urllib.request import urlopen,Request\n"
   ]
  },
  {
   "cell_type": "code",
   "execution_count": 85,
   "metadata": {},
   "outputs": [],
   "source": [
    "payload={'action':'login',\n",
    "          'username':os.environ.get('Kaggle_Username'),\n",
    "           'password':os.environ.get('Kaggle_Password')\n",
    "        }\n",
    "\n",
    "def extract_data(url,file_path):\n",
    "    with session() as c:\n",
    "        c.post('https://kaggle.com/account/login',data=payload)\n",
    "        with open(file_path,'w') as handle:\n",
    "            response=c.get(url,stream=True)\n",
    "            for block in response.iter_content(1024):\n",
    "                handle.write(block)\n",
    "    "
   ]
  },
  {
   "cell_type": "code",
   "execution_count": 86,
   "metadata": {},
   "outputs": [
    {
     "ename": "TypeError",
     "evalue": "write() argument must be str, not bytes",
     "output_type": "error",
     "traceback": [
      "\u001b[1;31m---------------------------------------------------------------------------\u001b[0m",
      "\u001b[1;31mTypeError\u001b[0m                                 Traceback (most recent call last)",
      "\u001b[1;32m<ipython-input-86-4d0e99ed9e25>\u001b[0m in \u001b[0;36m<module>\u001b[1;34m()\u001b[0m\n\u001b[0;32m      6\u001b[0m \u001b[0mtest_data_path\u001b[0m\u001b[1;33m=\u001b[0m\u001b[0mos\u001b[0m\u001b[1;33m.\u001b[0m\u001b[0mpath\u001b[0m\u001b[1;33m.\u001b[0m\u001b[0mjoin\u001b[0m\u001b[1;33m(\u001b[0m\u001b[0mraw_data_path\u001b[0m\u001b[1;33m,\u001b[0m\u001b[1;34m'test.csv'\u001b[0m\u001b[1;33m)\u001b[0m\u001b[1;33m\u001b[0m\u001b[0m\n\u001b[0;32m      7\u001b[0m \u001b[1;33m\u001b[0m\u001b[0m\n\u001b[1;32m----> 8\u001b[1;33m \u001b[0mextract_data\u001b[0m\u001b[1;33m(\u001b[0m\u001b[0mtrain_url\u001b[0m\u001b[1;33m,\u001b[0m\u001b[0mtrain_data_path\u001b[0m\u001b[1;33m)\u001b[0m\u001b[1;33m\u001b[0m\u001b[0m\n\u001b[0m\u001b[0;32m      9\u001b[0m \u001b[0mextract_data\u001b[0m\u001b[1;33m(\u001b[0m\u001b[0mtest_url\u001b[0m\u001b[1;33m,\u001b[0m\u001b[0mtest_data_path\u001b[0m\u001b[1;33m)\u001b[0m\u001b[1;33m\u001b[0m\u001b[0m\n",
      "\u001b[1;32m<ipython-input-85-a2b42f80852a>\u001b[0m in \u001b[0;36mextract_data\u001b[1;34m(url, file_path)\u001b[0m\n\u001b[0;32m     10\u001b[0m             \u001b[0mresponse\u001b[0m\u001b[1;33m=\u001b[0m\u001b[0mc\u001b[0m\u001b[1;33m.\u001b[0m\u001b[0mget\u001b[0m\u001b[1;33m(\u001b[0m\u001b[0murl\u001b[0m\u001b[1;33m,\u001b[0m\u001b[0mstream\u001b[0m\u001b[1;33m=\u001b[0m\u001b[1;32mTrue\u001b[0m\u001b[1;33m)\u001b[0m\u001b[1;33m\u001b[0m\u001b[0m\n\u001b[0;32m     11\u001b[0m             \u001b[1;32mfor\u001b[0m \u001b[0mblock\u001b[0m \u001b[1;32min\u001b[0m \u001b[0mresponse\u001b[0m\u001b[1;33m.\u001b[0m\u001b[0miter_content\u001b[0m\u001b[1;33m(\u001b[0m\u001b[1;36m1024\u001b[0m\u001b[1;33m)\u001b[0m\u001b[1;33m:\u001b[0m\u001b[1;33m\u001b[0m\u001b[0m\n\u001b[1;32m---> 12\u001b[1;33m                 \u001b[0mhandle\u001b[0m\u001b[1;33m.\u001b[0m\u001b[0mwrite\u001b[0m\u001b[1;33m(\u001b[0m\u001b[0mblock\u001b[0m\u001b[1;33m)\u001b[0m\u001b[1;33m\u001b[0m\u001b[0m\n\u001b[0m\u001b[0;32m     13\u001b[0m \u001b[1;33m\u001b[0m\u001b[0m\n",
      "\u001b[1;31mTypeError\u001b[0m: write() argument must be str, not bytes"
     ]
    }
   ],
   "source": [
    "train_url='https://www.kaggle.com/c/titanic/download/train.csv'\n",
    "test_url='https://www.kaggle.com/c/titanic/download/test.csv'\n",
    "\n",
    "raw_data_path=os.path.join(os.path.pardir,'data','raw')\n",
    "train_data_path=os.path.join(raw_data_path,'train.csv')\n",
    "test_data_path=os.path.join(raw_data_path,'test.csv')\n",
    "\n",
    "extract_data(train_url,train_data_path)\n",
    "extract_data(test_url,test_data_path)\n"
   ]
  },
  {
   "cell_type": "code",
   "execution_count": 84,
   "metadata": {},
   "outputs": [
    {
     "name": "stdout",
     "output_type": "stream",
     "text": [
      "total 8\n",
      "-rw-r--r-- 1 sachin gupta 197121 1477 Oct  1 00:58 test.csv\n",
      "-rw-r--r-- 1 sachin gupta 197121 1477 Oct  1 00:58 train.csv\n"
     ]
    }
   ],
   "source": [
    "!ls -l ../data/raw"
   ]
  },
  {
   "cell_type": "markdown",
   "metadata": {},
   "source": [
    "## Building the script\n"
   ]
  },
  {
   "cell_type": "code",
   "execution_count": 74,
   "metadata": {},
   "outputs": [],
   "source": [
    "get_raw_data_script_file=os.path.join(os.path.pardir,'src','data','get_raw_data.py')"
   ]
  },
  {
   "cell_type": "code",
   "execution_count": 75,
   "metadata": {},
   "outputs": [
    {
     "name": "stdout",
     "output_type": "stream",
     "text": [
      "Writing ..\\src\\data\\get_raw_data.py\n"
     ]
    }
   ],
   "source": [
    "%%writefile $get_raw_data_script_file\n",
    "\n",
    "import os\n",
    "from dotenv import find_dotenv,load_dotenv\n",
    "from requests import session\n",
    "import logging\n",
    "\n",
    "payload={'action':'login',\n",
    "          'username':os.environ.get('Kaggle_Username'),\n",
    "           'password':os.environ.get('Kaggle_Password')\n",
    "        }\n",
    "\n",
    "\n",
    "def extract_data(url,file_path):\n",
    "    with session() as c:\n",
    "        c.post('https://kaggle.com/account/login',data=payload)\n",
    "        with open(file_path,'wb') as handle:\n",
    "            response=c.get(url,stream=True)\n",
    "            for block in response.iter_content(1024):\n",
    "                handle.write(block)\n",
    "                \n",
    "                \n",
    "def main(project_dir):\n",
    "    logger=logging.getLogger(__name__)\n",
    "    logger.info('getting raw data')\n",
    "    train_url='https://www.kaggle.com/c/titanic/download/train.csv'\n",
    "    test_url='https://www.kaggle.com/c/titanic/download/test.csv'\n",
    "\n",
    "    raw_data_path=os.path.join(os.path.pardir,'data','raw')\n",
    "    train_data_path=os.path.join(raw_data_path,'train.csv')\n",
    "    test_data_path=os.path.join(raw_data_path,'test.csv')\n",
    "\n",
    "    extract_data(train_url,train_data_path)\n",
    "    extract_data(test_url,test_data_path)\n",
    "    logger.info('Downloaded training and test data')\n",
    "    \n",
    "if __name__ =='__main__':\n",
    "    project_dir=os.path.join(os.path.dirname(__file__),os.pardir,os.pardir)\n",
    "    dotenv_path=find_dotenv()\n",
    "    load_dotenv(dotenv_path) \n",
    "    \n",
    "    main(project_dir)\n",
    "\n",
    "    "
   ]
  },
  {
   "cell_type": "code",
   "execution_count": 76,
   "metadata": {},
   "outputs": [],
   "source": [
    "!python $get_raw_data_script_file"
   ]
  },
  {
   "cell_type": "code",
   "execution_count": null,
   "metadata": {},
   "outputs": [],
   "source": []
  }
 ],
 "metadata": {
  "kernelspec": {
   "display_name": "Python 3",
   "language": "python",
   "name": "python3"
  },
  "language_info": {
   "codemirror_mode": {
    "name": "ipython",
    "version": 3
   },
   "file_extension": ".py",
   "mimetype": "text/x-python",
   "name": "python",
   "nbconvert_exporter": "python",
   "pygments_lexer": "ipython3",
   "version": "3.6.4"
  }
 },
 "nbformat": 4,
 "nbformat_minor": 2
}
